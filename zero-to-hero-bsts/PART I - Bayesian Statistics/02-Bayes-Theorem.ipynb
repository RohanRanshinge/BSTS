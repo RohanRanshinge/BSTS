{
  "nbformat": 4,
  "nbformat_minor": 0,
  "metadata": {
    "colab": {
      "provenance": [],
      "include_colab_link": true
    },
    "kernelspec": {
      "name": "python3",
      "display_name": "Python 3"
    },
    "language_info": {
      "name": "python"
    }
  },
  "cells": [
    {
      "cell_type": "markdown",
      "metadata": {
        "id": "view-in-github",
        "colab_type": "text"
      },
      "source": [
        "<a href=\"https://colab.research.google.com/github/RohanRanshinge/BSTS/blob/main/zero-to-hero-bsts/PART%20I%20-%20Bayesian%20Statistics/02-Bayes-Theorem.ipynb\" target=\"_parent\"><img src=\"https://colab.research.google.com/assets/colab-badge.svg\" alt=\"Open In Colab\"/></a>"
      ]
    },
    {
      "cell_type": "markdown",
      "source": [
        "#Chapter 2: Bayes’ theorem\n",
        "Alright! Now that we have some understanding of probability, let’s get into one of the most important theorems!\n",
        "\n",
        "The almighty Bayes’ theorem!\n",
        "\n",
        "Bayes theorem is based on conditional probability. It allows us to find the probability of event A happening, given we know event B happened.\n",
        "\n",
        "Let’s see an example to understand the core concept!\n",
        "##Example 1: Sorting the Staff\n",
        "Q) There are 20 employees at a company, 12 of whom are female.\n",
        "There are 10 PhDs, of which 6 are female.\n",
        "What is the probability of being a female given they have a PhD?\n",
        "\n",
        "We can solve this directly using Bayes’ theorem (revealed later), but first let’s understand how to solve this in a simple table format.\n",
        "\n",
        "Based on the data given to us we can create the following table:\n",
        "\n",
        "\n"
      ],
      "metadata": {
        "id": "HAvSd8DxQh1l"
      }
    },
    {
      "cell_type": "markdown",
      "source": [
        "| | Female | Male | Total\n",
        "|:--:| :-------:|:------:|:------:|\n",
        "**PhDs**|6|?|10 |\n",
        "**Not PhDs**|?|?|? |\n",
        "**Total**|12|?|20 |\n",
        "\n",
        "\n"
      ],
      "metadata": {
        "id": "e_-53cmY09Dk"
      }
    },
    {
      "cell_type": "markdown",
      "source": [
        "Our job is to find the missing data values. As you can see this is fairly easy to solve\n",
        "\n",
        "\n",
        "| | Female | Male | Total\n",
        "|-| -------|------|------|\n",
        "**PhDs**|6|4|10 |\n",
        "**Not PhDs**|6|4|10 |\n",
        "**Total**|12|8|20 |\n",
        "\n",
        "\n",
        "Given just this table, we can solve the question! \\\n",
        "We are asked what is P(F|PhD)? \\\n",
        "The total number of PhDs = 10. Of which the number of females = 6.\\\n",
        "Thus, the universe size is 10 and we want to find the probability of being female. That equates to 6/10\n",
        "\n",
        "We can arrive at the same conclusion in a different way using conditional probabilities which is given as,\n",
        "\n",
        "$P(A|B) = \\frac{P(A ∩ B)}{P(B)}$ \\\n",
        "Substituting the above equation with our example we get,\\\n",
        "P(F|PhD) = $\\frac{P(F ∩ PhD)}{P(PhD)}$ \\\n",
        "\n",
        "Translating the above equation in English you will see it matches our earlier statement: \\\n",
        "From the universe of PhDs (denominator) we want to find all those that are female AND have a PhD (numerator).\n",
        "\n",
        "Let’s find each of the elements in this equation: \\\n",
        "First, let’s get the probability of being a female on this team. This is known as marginal probability. \\\n",
        "For P(F) we find total number of females and divide by total count.\\\n",
        "P(F) = $\\frac{12}{20} = \\frac{3}{5}$ … marginal probability\n",
        "\n",
        "\n",
        "Similarly, the probability of having a PhD is,\\\n",
        "P(PhD) = $\\frac{10}{20} = \\frac{1}{2}$ \t\t\t\t\t\t… marginal probability\n",
        "\n",
        "\n",
        "Next, to find the probability of being female and having a PhD,  \n",
        "find the cell that corresponds to female and PhD (= 6), divide this with the total number (=20). This is known as the joint probability\n",
        "P(F ∩ PhD) = $\\frac{6}{20} = \\frac{3}{10}$  ... joint probability\n",
        "\n",
        "Now that we have all these elements in place we can find P(F | PhD). This is known as conditional probability and is given by,\\\n",
        "P(F|PhD) $= \\frac{P(F ∩ PhD)}{P(PhD)}$ \\\n",
        "\n",
        "P(F|PhD) $= \\frac{3/10}{1/2} = \\frac{6}{10}$  ... conditional probability\n",
        "\n",
        "This matches the answer we had seen earlier. This was just a different way to get to it.\n",
        "\n",
        "## Deriving the Bayes Theorem\n",
        "Okay, now that we have seen that example let’s look at some equations and derive the Bayes theorem\n",
        "\n",
        "In mathematical form, the conditional probability is given as:\\\n",
        "$P(A|B) = \\frac{P(A \\cap B)}{P(B)}$ ... eqn(1)\n",
        "\n",
        "i.e. The probability of A given B is the probability that A and B happen together relative to the probability that B happens at all."
      ],
      "metadata": {
        "id": "ddkTvXJd0_wX"
      }
    },
    {
      "cell_type": "markdown",
      "source": [
        "TODO: Complete the doc + cleanup"
      ],
      "metadata": {
        "id": "A8mynNaIygun"
      }
    }
  ]
}